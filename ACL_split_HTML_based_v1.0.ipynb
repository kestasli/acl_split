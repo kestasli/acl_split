{
 "cells": [
  {
   "cell_type": "code",
   "execution_count": null,
   "id": "688e055a",
   "metadata": {},
   "outputs": [],
   "source": [
    "import re\n",
    "import pprint as pp"
   ]
  },
  {
   "cell_type": "code",
   "execution_count": null,
   "id": "64aa259a",
   "metadata": {},
   "outputs": [],
   "source": [
    "#file_in = 'Zscaler Cloud Portal - Firewall Control.html'\n",
    "#file_in = 'Zscaler Cloud Portal - Print All Policies.html'\n",
    "#file_in = 'Zscaler Cloud Portal - URL & Cloud App Control.html'\n",
    "file_in = 'Zscaler Cloud Portal - SSL Inspection.html'\n",
    "file_out = file_in.split('.')[0] + '.csv'\n",
    "#file_out = 'rules_table.txt'"
   ]
  },
  {
   "cell_type": "code",
   "execution_count": null,
   "id": "f576ea04",
   "metadata": {},
   "outputs": [],
   "source": [
    "def getDescriptions(data):\n",
    "    regex_descr = '<div class=\"policy-table-criteria-item-label\"><span class=\"policy-table-cell-text -js-table-cell-text\">(.*?)</span></div>'\n",
    "    result = re.findall(regex_descr, data)\n",
    "    for i in result:\n",
    "        print(i)"
   ]
  },
  {
   "cell_type": "code",
   "execution_count": null,
   "id": "43659868",
   "metadata": {},
   "outputs": [],
   "source": [
    "def getContent(data):\n",
    "    regex_content = r\"<span class=\\\"policy-table-criteria-item-data-item ?\\\">(.*?)<\\/span>\"\n",
    "    result = re.findall(regex_content, data)\n",
    "    return(result)"
   ]
  },
  {
   "cell_type": "code",
   "execution_count": null,
   "id": "ff3af682",
   "metadata": {},
   "outputs": [],
   "source": [
    "def getRuleName(data):\n",
    "    regex_text = r\"<span class=\\\"policy-table-cell-text -js-table-cell-text ?\\\">(.*?)</span>\"\n",
    "    #regex_text = r\"<span class=\\\"policy-table-cell-text -js-table-cell-text\\\">(.*?)</span>\"\n",
    "    result = re.search(regex_text, data)\n",
    "    return(result[1])"
   ]
  },
  {
   "cell_type": "code",
   "execution_count": null,
   "id": "44d01462",
   "metadata": {},
   "outputs": [],
   "source": [
    "def getActionContent(data):\n",
    "    regex_action = r\"<span class=\\\"policy-table-action-content\\\">(.*?)</span>\"\n",
    "    result = re.search(regex_action, data)\n",
    "    return(result[1])"
   ]
  },
  {
   "cell_type": "code",
   "execution_count": null,
   "id": "499441d0",
   "metadata": {},
   "outputs": [],
   "source": [
    "def getTagLocations(data, tag):\n",
    "    locationsList = []\n",
    "    endOfFile = len(data)\n",
    "    result_iter = re.finditer(tag, data)\n",
    "    for result in result_iter:      \n",
    "        locationsList.append((result.start(), result.end()))\n",
    "    return locationsList"
   ]
  },
  {
   "cell_type": "code",
   "execution_count": null,
   "id": "03de954f",
   "metadata": {},
   "outputs": [],
   "source": [
    "def getContentBetweenTags(data, tag):\n",
    "    intervalData = []\n",
    "    locations = getTagLocations(data, tag)\n",
    "    end_prev = 0\n",
    "    start_prev = 0\n",
    "    for interval in locations:\n",
    "        start = interval[0]\n",
    "        end = interval[1]\n",
    "        if end_prev == 0:\n",
    "            end_prev = end\n",
    "            start_prev = start\n",
    "        else:\n",
    "            #Here I should put function which parses all fields\n",
    "            #-------------------------------------------------\n",
    "            intervalData.append(data[start_prev:start])\n",
    "            #-------------------------------------------------\n",
    "            end_prev = end\n",
    "            start_prev = start\n",
    "    #row is needed to add match of last find pattern to the end of file\n",
    "    intervalData.append(data[start_prev:len(data)])\n",
    "    return intervalData"
   ]
  },
  {
   "cell_type": "code",
   "execution_count": null,
   "id": "db63b0f8",
   "metadata": {},
   "outputs": [],
   "source": [
    "tag0 = r'<span class=\\\"policy-table-rule-name -js-table-cell policy-table-cell\\\" data-section=\\\"name\\\" style=\\\"width: calc\\(\\d+.?\\d+% - \\d+.?\\d+px\\); height: \\d+px;\\\">'\n",
    "tag1 = r'<div class=\\\"policy-table-criteria-item-label\\\"><span class=\\\"policy-table-cell-text -js-table-cell-text\\\">'\n"
   ]
  },
  {
   "cell_type": "code",
   "execution_count": null,
   "id": "749fabbf",
   "metadata": {},
   "outputs": [],
   "source": []
  },
  {
   "cell_type": "code",
   "execution_count": null,
   "id": "efa2ed80",
   "metadata": {},
   "outputs": [],
   "source": [
    "with open(file_in, 'r') as file:\n",
    "    data = file.read()\n",
    "\n",
    "with open(file_out, 'w', encoding='utf8') as output:\n",
    "    content_array = getContentBetweenTags(data, tag0)\n",
    "    #this block iterates through whole row content\n",
    "    for table_rows in content_array:\n",
    "        rule_name = getRuleName(table_rows)\n",
    "        action_content = getActionContent(table_rows)\n",
    "        \n",
    "        #this block splits row into subcategories and iterates\n",
    "        for table_items in getContentBetweenTags(table_rows, tag1):\n",
    "            group_name = getRuleName(table_items)\n",
    "            table_values = getContent(table_items)\n",
    "            for value in table_values:\n",
    "                csv_row = rule_name + '|' + group_name + '|' + value + '|' + action_content\n",
    "                print(csv_row)\n",
    "                output.write(csv_row + '\\n')"
   ]
  },
  {
   "cell_type": "code",
   "execution_count": null,
   "id": "31fc466f",
   "metadata": {},
   "outputs": [],
   "source": []
  }
 ],
 "metadata": {
  "kernelspec": {
   "display_name": "Python 3 (ipykernel)",
   "language": "python",
   "name": "python3"
  },
  "language_info": {
   "codemirror_mode": {
    "name": "ipython",
    "version": 3
   },
   "file_extension": ".py",
   "mimetype": "text/x-python",
   "name": "python",
   "nbconvert_exporter": "python",
   "pygments_lexer": "ipython3",
   "version": "3.10.4"
  }
 },
 "nbformat": 4,
 "nbformat_minor": 5
}
